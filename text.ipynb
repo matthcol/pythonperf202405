{
 "cells": [
  {
   "cell_type": "code",
   "execution_count": 4,
   "id": "1ae8fce6-b264-4481-9add-df8df1f7d553",
   "metadata": {},
   "outputs": [],
   "source": [
    "cities = [ 'Toulouse', 'Nîmes', '東京' ]"
   ]
  },
  {
   "cell_type": "code",
   "execution_count": 5,
   "id": "bb5e4290-fcb7-4cbb-b043-e396c0f874db",
   "metadata": {},
   "outputs": [
    {
     "name": "stdout",
     "output_type": "stream",
     "text": [
      "b'Toulouse'\n",
      "b'N\\xc3\\xaemes'\n",
      "b'\\xe6\\x9d\\xb1\\xe4\\xba\\xac'\n"
     ]
    }
   ],
   "source": [
    "for city in cities:\n",
    "    code = city.encode('UTF-8')\n",
    "    print(code)"
   ]
  },
  {
   "cell_type": "code",
   "execution_count": 6,
   "id": "2fe907c8-1fe1-4696-a2c2-b3792d28a955",
   "metadata": {},
   "outputs": [
    {
     "data": {
      "text/plain": [
       "'î'"
      ]
     },
     "execution_count": 6,
     "metadata": {},
     "output_type": "execute_result"
    }
   ],
   "source": [
    "code = b'\\xc3\\xae'\n",
    "code.decode('UTF-8')"
   ]
  },
  {
   "cell_type": "code",
   "execution_count": 7,
   "id": "ca359df6-de54-49f7-8213-be32c0812a42",
   "metadata": {},
   "outputs": [
    {
     "data": {
      "text/plain": [
       "'Ã®'"
      ]
     },
     "execution_count": 7,
     "metadata": {},
     "output_type": "execute_result"
    }
   ],
   "source": [
    "code.decode('cp1252')"
   ]
  },
  {
   "cell_type": "code",
   "execution_count": 8,
   "id": "66d57234-676c-443d-abec-0c897e6c4d92",
   "metadata": {},
   "outputs": [
    {
     "name": "stdout",
     "output_type": "stream",
     "text": [
      "cp1252 -> b'\\x80'\n",
      "ISO-8859-15 -> b'\\xa4'\n",
      "UTF-8 -> b'\\xe2\\x82\\xac'\n"
     ]
    }
   ],
   "source": [
    "for encoding in 'cp1252', 'ISO-8859-15', 'UTF-8':\n",
    "    code = '€'.encode(encoding)\n",
    "    print(encoding, '->', code)"
   ]
  }
 ],
 "metadata": {
  "kernelspec": {
   "display_name": "k312",
   "language": "python",
   "name": "k312"
  },
  "language_info": {
   "codemirror_mode": {
    "name": "ipython",
    "version": 3
   },
   "file_extension": ".py",
   "mimetype": "text/x-python",
   "name": "python",
   "nbconvert_exporter": "python",
   "pygments_lexer": "ipython3",
   "version": "3.12.1"
  }
 },
 "nbformat": 4,
 "nbformat_minor": 5
}
