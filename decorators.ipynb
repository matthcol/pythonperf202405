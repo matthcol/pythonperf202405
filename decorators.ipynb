{
 "cells": [
  {
   "cell_type": "markdown",
   "id": "20b59282-43a9-460f-957b-e46beeb72993",
   "metadata": {},
   "source": [
    "# Decorators\n",
    "\n",
    "Article: https://realpython.com/primer-on-python-decorators/"
   ]
  },
  {
   "cell_type": "code",
   "execution_count": 62,
   "id": "2c5f7129-b39c-4185-8639-824ab7736da9",
   "metadata": {},
   "outputs": [],
   "source": [
    "from functools import lru_cache, wraps\n",
    "from datetime import datetime"
   ]
  },
  {
   "cell_type": "markdown",
   "id": "4f9a751a-748c-483c-96ea-50efa43079ba",
   "metadata": {},
   "source": [
    "## Decorator lru_cache"
   ]
  },
  {
   "cell_type": "code",
   "execution_count": 2,
   "id": "85e577c7-18e1-40be-86ce-45d15bf50731",
   "metadata": {},
   "outputs": [],
   "source": [
    "def fibo(n: int) -> int:\n",
    "    if n == 0:\n",
    "        return 0\n",
    "    elif n == 1:\n",
    "        return 1\n",
    "    else:\n",
    "        return fibo(n - 1) + fibo(n - 2)"
   ]
  },
  {
   "cell_type": "code",
   "execution_count": 3,
   "id": "26c06408-b05d-41c0-b87c-ba94c7c172a0",
   "metadata": {},
   "outputs": [
    {
     "data": {
      "text/plain": [
       "(0, 1, 5)"
      ]
     },
     "execution_count": 3,
     "metadata": {},
     "output_type": "execute_result"
    }
   ],
   "source": [
    "fibo(0), fibo(1), fibo(5)"
   ]
  },
  {
   "cell_type": "code",
   "execution_count": 4,
   "id": "91f513d7-24af-4ea8-99b3-88d159cb81b5",
   "metadata": {},
   "outputs": [
    {
     "data": {
      "text/plain": [
       "[0, 1, 1, 2, 3, 5, 8, 13, 21, 34]"
      ]
     },
     "execution_count": 4,
     "metadata": {},
     "output_type": "execute_result"
    }
   ],
   "source": [
    "[ fibo(n) for n in range(10) ]"
   ]
  },
  {
   "cell_type": "code",
   "execution_count": 5,
   "id": "8ccb19b3-457a-4102-90e3-d6d2d08474e2",
   "metadata": {},
   "outputs": [],
   "source": [
    "# fibo(400) # need too much time"
   ]
  },
  {
   "cell_type": "code",
   "execution_count": 6,
   "id": "c1e5a045-0e5a-4b39-a9c3-f417fa6b67c0",
   "metadata": {},
   "outputs": [],
   "source": [
    "@lru_cache(1000)\n",
    "def fibo_cache(n: int) -> int:\n",
    "    if n == 0:\n",
    "        return 0\n",
    "    elif n == 1:\n",
    "        return 1\n",
    "    else:\n",
    "        return fibo_cache(n - 1) + fibo_cache(n - 2)"
   ]
  },
  {
   "cell_type": "markdown",
   "id": "58d0b07b-98fa-4bb9-94a0-9054ce7eaf54",
   "metadata": {},
   "source": [
    "Time profiling:\n",
    " - notebook magics: %time, %timeit\n",
    " - python: module timeit\n",
    " - python: class datetime.datetime"
   ]
  },
  {
   "cell_type": "code",
   "execution_count": 7,
   "id": "723b37b8-09cb-46ab-bb90-6b7119bf9f5c",
   "metadata": {},
   "outputs": [
    {
     "name": "stdout",
     "output_type": "stream",
     "text": [
      "309 ns ± 101 ns per loop (mean ± std. dev. of 7 runs, 10,000,000 loops each)\n"
     ]
    }
   ],
   "source": [
    "%timeit fibo_cache(400)"
   ]
  },
  {
   "cell_type": "code",
   "execution_count": 8,
   "id": "08927260-c4c2-4a48-998c-aafd13900e3f",
   "metadata": {},
   "outputs": [
    {
     "name": "stdout",
     "output_type": "stream",
     "text": [
      "CPU times: total: 0 ns\n",
      "Wall time: 0 ns\n"
     ]
    },
    {
     "data": {
      "text/plain": [
       "176023680645013966468226945392411250770384383304492191886725992896575345044216019675"
      ]
     },
     "execution_count": 8,
     "metadata": {},
     "output_type": "execute_result"
    }
   ],
   "source": [
    "%time fibo_cache(400)"
   ]
  },
  {
   "cell_type": "code",
   "execution_count": 9,
   "id": "8a686fec-e690-4df7-998c-04b988c6e445",
   "metadata": {},
   "outputs": [
    {
     "name": "stdout",
     "output_type": "stream",
     "text": [
      "CPU times: total: 547 ms\n",
      "Wall time: 966 ms\n"
     ]
    },
    {
     "data": {
      "text/plain": [
       "832040"
      ]
     },
     "execution_count": 9,
     "metadata": {},
     "output_type": "execute_result"
    }
   ],
   "source": [
    "%time fibo(30)"
   ]
  },
  {
   "cell_type": "code",
   "execution_count": 10,
   "id": "a53be858-7295-4b58-81fd-741d8c1e61b8",
   "metadata": {},
   "outputs": [
    {
     "name": "stdout",
     "output_type": "stream",
     "text": [
      "875 ms ± 298 ms per loop (mean ± std. dev. of 10 runs, 1 loop each)\n"
     ]
    }
   ],
   "source": [
    "%timeit -n 1 -r 10 fibo(30)"
   ]
  },
  {
   "cell_type": "code",
   "execution_count": 11,
   "id": "c6fa90c5-78ff-41b6-a5ce-079f6a39bfa5",
   "metadata": {},
   "outputs": [
    {
     "name": "stdout",
     "output_type": "stream",
     "text": [
      "The slowest run took 5.80 times longer than the fastest. This could mean that an intermediate result is being cached.\n",
      "870 ns ± 707 ns per loop (mean ± std. dev. of 10 runs, 1 loop each)\n"
     ]
    }
   ],
   "source": [
    "%timeit -n 1 -r 10 fibo_cache(30)"
   ]
  },
  {
   "cell_type": "code",
   "execution_count": 12,
   "id": "ef55c69a-190d-4925-a679-cc0bf138db81",
   "metadata": {},
   "outputs": [],
   "source": [
    "fibo_cache2 = lru_cache(fibo)"
   ]
  },
  {
   "cell_type": "code",
   "execution_count": 14,
   "id": "61609ce2-7943-4598-8e1f-ef837c4e81cd",
   "metadata": {
    "collapsed": true,
    "jupyter": {
     "outputs_hidden": true
    }
   },
   "outputs": [
    {
     "ename": "KeyboardInterrupt",
     "evalue": "",
     "output_type": "error",
     "traceback": [
      "\u001b[1;31m---------------------------------------------------------------------------\u001b[0m",
      "\u001b[1;31mKeyboardInterrupt\u001b[0m                         Traceback (most recent call last)",
      "Cell \u001b[1;32mIn[14], line 1\u001b[0m\n\u001b[1;32m----> 1\u001b[0m \u001b[43mfibo_cache2\u001b[49m\u001b[43m(\u001b[49m\u001b[38;5;241;43m400\u001b[39;49m\u001b[43m)\u001b[49m\n",
      "Cell \u001b[1;32mIn[2], line 7\u001b[0m, in \u001b[0;36mfibo\u001b[1;34m(n)\u001b[0m\n\u001b[0;32m      5\u001b[0m     \u001b[38;5;28;01mreturn\u001b[39;00m \u001b[38;5;241m1\u001b[39m\n\u001b[0;32m      6\u001b[0m \u001b[38;5;28;01melse\u001b[39;00m:\n\u001b[1;32m----> 7\u001b[0m     \u001b[38;5;28;01mreturn\u001b[39;00m \u001b[43mfibo\u001b[49m\u001b[43m(\u001b[49m\u001b[43mn\u001b[49m\u001b[43m \u001b[49m\u001b[38;5;241;43m-\u001b[39;49m\u001b[43m \u001b[49m\u001b[38;5;241;43m1\u001b[39;49m\u001b[43m)\u001b[49m \u001b[38;5;241m+\u001b[39m fibo(n \u001b[38;5;241m-\u001b[39m \u001b[38;5;241m2\u001b[39m)\n",
      "Cell \u001b[1;32mIn[2], line 7\u001b[0m, in \u001b[0;36mfibo\u001b[1;34m(n)\u001b[0m\n\u001b[0;32m      5\u001b[0m     \u001b[38;5;28;01mreturn\u001b[39;00m \u001b[38;5;241m1\u001b[39m\n\u001b[0;32m      6\u001b[0m \u001b[38;5;28;01melse\u001b[39;00m:\n\u001b[1;32m----> 7\u001b[0m     \u001b[38;5;28;01mreturn\u001b[39;00m \u001b[43mfibo\u001b[49m\u001b[43m(\u001b[49m\u001b[43mn\u001b[49m\u001b[43m \u001b[49m\u001b[38;5;241;43m-\u001b[39;49m\u001b[43m \u001b[49m\u001b[38;5;241;43m1\u001b[39;49m\u001b[43m)\u001b[49m \u001b[38;5;241m+\u001b[39m fibo(n \u001b[38;5;241m-\u001b[39m \u001b[38;5;241m2\u001b[39m)\n",
      "    \u001b[1;31m[... skipping similar frames: fibo at line 7 (385 times)]\u001b[0m\n",
      "Cell \u001b[1;32mIn[2], line 7\u001b[0m, in \u001b[0;36mfibo\u001b[1;34m(n)\u001b[0m\n\u001b[0;32m      5\u001b[0m     \u001b[38;5;28;01mreturn\u001b[39;00m \u001b[38;5;241m1\u001b[39m\n\u001b[0;32m      6\u001b[0m \u001b[38;5;28;01melse\u001b[39;00m:\n\u001b[1;32m----> 7\u001b[0m     \u001b[38;5;28;01mreturn\u001b[39;00m fibo(n \u001b[38;5;241m-\u001b[39m \u001b[38;5;241m1\u001b[39m) \u001b[38;5;241m+\u001b[39m \u001b[43mfibo\u001b[49m\u001b[43m(\u001b[49m\u001b[43mn\u001b[49m\u001b[43m \u001b[49m\u001b[38;5;241;43m-\u001b[39;49m\u001b[43m \u001b[49m\u001b[38;5;241;43m2\u001b[39;49m\u001b[43m)\u001b[49m\n",
      "Cell \u001b[1;32mIn[2], line 1\u001b[0m, in \u001b[0;36mfibo\u001b[1;34m(n)\u001b[0m\n\u001b[1;32m----> 1\u001b[0m \u001b[38;5;28;01mdef\u001b[39;00m \u001b[38;5;21mfibo\u001b[39m(n: \u001b[38;5;28mint\u001b[39m) \u001b[38;5;241m-\u001b[39m\u001b[38;5;241m>\u001b[39m \u001b[38;5;28mint\u001b[39m:\n\u001b[0;32m      2\u001b[0m     \u001b[38;5;28;01mif\u001b[39;00m n \u001b[38;5;241m==\u001b[39m \u001b[38;5;241m0\u001b[39m:\n\u001b[0;32m      3\u001b[0m         \u001b[38;5;28;01mreturn\u001b[39;00m \u001b[38;5;241m0\u001b[39m\n",
      "\u001b[1;31mKeyboardInterrupt\u001b[0m: "
     ]
    }
   ],
   "source": [
    "fibo_cache2(400)"
   ]
  },
  {
   "cell_type": "markdown",
   "id": "9466e902-da02-473f-a5bf-a6f63f5c3ffc",
   "metadata": {},
   "source": [
    "## write decorator timeit"
   ]
  },
  {
   "cell_type": "code",
   "execution_count": 67,
   "id": "e3438987-f609-4deb-84d5-e7045299c9d0",
   "metadata": {},
   "outputs": [],
   "source": [
    "def timeit(func):\n",
    "    @wraps(func)\n",
    "    def timeit_wrapper(*args, **kwargs):\n",
    "        dt1 = datetime.now()\n",
    "        res = func(*args, **kwargs)\n",
    "        dt2 = datetime.now()\n",
    "        delta = dt2 - dt1\n",
    "        print(\"Time elapsed:\", delta)\n",
    "        return res\n",
    "    # timeit_wrapper.__doc__ = func.__doc__\n",
    "    # timeit_wrapper.__name__ = func.__name__\n",
    "    return timeit_wrapper"
   ]
  },
  {
   "cell_type": "code",
   "execution_count": 42,
   "id": "1d6126b3-4e10-4a7a-9507-f71071670168",
   "metadata": {},
   "outputs": [],
   "source": [
    "@timeit\n",
    "def f():\n",
    "    r = fibo(30)\n",
    "    return r"
   ]
  },
  {
   "cell_type": "code",
   "execution_count": 43,
   "id": "f2bea12e-573d-4e2a-9b5c-89ab4ea0b516",
   "metadata": {},
   "outputs": [
    {
     "name": "stdout",
     "output_type": "stream",
     "text": [
      "Time elapsed: 0:00:01.284418\n"
     ]
    },
    {
     "data": {
      "text/plain": [
       "832040"
      ]
     },
     "execution_count": 43,
     "metadata": {},
     "output_type": "execute_result"
    }
   ],
   "source": [
    "r = f()\n",
    "r"
   ]
  },
  {
   "cell_type": "code",
   "execution_count": 44,
   "id": "4e605b82-b93c-4360-a087-08089a1a4432",
   "metadata": {},
   "outputs": [
    {
     "name": "stdout",
     "output_type": "stream",
     "text": [
      "Time elapsed: 0:00:01.163652\n"
     ]
    },
    {
     "data": {
      "text/plain": [
       "832040"
      ]
     },
     "execution_count": 44,
     "metadata": {},
     "output_type": "execute_result"
    }
   ],
   "source": [
    "fibo_timed = timeit(lambda: fibo(30))\n",
    "fibo_timed()"
   ]
  },
  {
   "cell_type": "code",
   "execution_count": 68,
   "id": "391b015b-3b1e-4182-8227-4dcd6f1045f6",
   "metadata": {},
   "outputs": [],
   "source": [
    "@timeit\n",
    "def fibo_timed(n: int) -> int:\n",
    "    \"\"\" compute nth value of Fibonacci series \"\"\"\n",
    "    return fibo_cache(n)"
   ]
  },
  {
   "cell_type": "code",
   "execution_count": 69,
   "id": "8df50a20-9a3d-4f50-b4de-ac4c8d8ce1c9",
   "metadata": {},
   "outputs": [
    {
     "name": "stdout",
     "output_type": "stream",
     "text": [
      "Time elapsed: 0:00:00\n"
     ]
    },
    {
     "data": {
      "text/plain": [
       "832040"
      ]
     },
     "execution_count": 69,
     "metadata": {},
     "output_type": "execute_result"
    }
   ],
   "source": [
    "fibo_timed(30)"
   ]
  },
  {
   "cell_type": "code",
   "execution_count": 70,
   "id": "97f40a09-0fa7-4434-905c-710b7f86a95c",
   "metadata": {},
   "outputs": [
    {
     "name": "stdout",
     "output_type": "stream",
     "text": [
      "Time elapsed: 0:00:00\n"
     ]
    },
    {
     "data": {
      "text/plain": [
       "832040"
      ]
     },
     "execution_count": 70,
     "metadata": {},
     "output_type": "execute_result"
    }
   ],
   "source": [
    "fibo_timed(n=30)"
   ]
  },
  {
   "cell_type": "code",
   "execution_count": 71,
   "id": "b743eafc-8a72-4b17-a0a8-91f9d462948d",
   "metadata": {},
   "outputs": [],
   "source": [
    "# Wrong usages of decorated function\n",
    "# fibo_timed(r=30)\n",
    "# fibo_timed(30, 2)"
   ]
  },
  {
   "cell_type": "code",
   "execution_count": 72,
   "id": "e5484c36-4921-414f-b33c-40bb9dd7ba43",
   "metadata": {},
   "outputs": [
    {
     "data": {
      "text/plain": [
       "\u001b[1;31mSignature:\u001b[0m \u001b[0mfibo_timed\u001b[0m\u001b[1;33m(\u001b[0m\u001b[0mn\u001b[0m\u001b[1;33m:\u001b[0m \u001b[0mint\u001b[0m\u001b[1;33m)\u001b[0m \u001b[1;33m->\u001b[0m \u001b[0mint\u001b[0m\u001b[1;33m\u001b[0m\u001b[1;33m\u001b[0m\u001b[0m\n",
       "\u001b[1;31mDocstring:\u001b[0m compute nth value of Fibonacci series \n",
       "\u001b[1;31mFile:\u001b[0m      c:\\users\\matthias\\appdata\\local\\temp\\ipykernel_26320\\1232679963.py\n",
       "\u001b[1;31mType:\u001b[0m      function"
      ]
     },
     "metadata": {},
     "output_type": "display_data"
    }
   ],
   "source": [
    "fibo_timed?"
   ]
  },
  {
   "cell_type": "code",
   "execution_count": 73,
   "id": "2cba6acc-a20f-45bf-99ad-f31a774be14b",
   "metadata": {},
   "outputs": [
    {
     "data": {
      "text/plain": [
       "'fibo_timed'"
      ]
     },
     "execution_count": 73,
     "metadata": {},
     "output_type": "execute_result"
    }
   ],
   "source": [
    "fibo_timed.__name__"
   ]
  },
  {
   "cell_type": "code",
   "execution_count": 76,
   "id": "fa507c6e-d882-422c-b244-6c19c85ccc82",
   "metadata": {},
   "outputs": [],
   "source": [
    "def repeat(num_times):\n",
    "    def decorator_repeat(func):\n",
    "        @wraps(func)\n",
    "        def wrapper_repeat(*args, **kwargs):\n",
    "            for _ in range(num_times):\n",
    "                value = func(*args, **kwargs)\n",
    "            return value\n",
    "        return wrapper_repeat\n",
    "    return decorator_repeat"
   ]
  },
  {
   "cell_type": "code",
   "execution_count": 81,
   "id": "2a9367cc-3a9e-4724-8732-e25622d80ce2",
   "metadata": {},
   "outputs": [],
   "source": [
    "@timeit\n",
    "@repeat(10)\n",
    "def hello(msg):\n",
    "    print(msg)"
   ]
  },
  {
   "cell_type": "code",
   "execution_count": 82,
   "id": "fe920719-7499-429d-8c3a-0c100c78c6fa",
   "metadata": {},
   "outputs": [
    {
     "name": "stdout",
     "output_type": "stream",
     "text": [
      "See you tomorrow !\n",
      "See you tomorrow !\n",
      "See you tomorrow !\n",
      "See you tomorrow !\n",
      "See you tomorrow !\n",
      "See you tomorrow !\n",
      "See you tomorrow !\n",
      "See you tomorrow !\n",
      "See you tomorrow !\n",
      "See you tomorrow !\n",
      "Time elapsed: 0:00:00.001010\n"
     ]
    }
   ],
   "source": [
    "hello(\"See you tomorrow !\")"
   ]
  }
 ],
 "metadata": {
  "kernelspec": {
   "display_name": "k312",
   "language": "python",
   "name": "k312"
  },
  "language_info": {
   "codemirror_mode": {
    "name": "ipython",
    "version": 3
   },
   "file_extension": ".py",
   "mimetype": "text/x-python",
   "name": "python",
   "nbconvert_exporter": "python",
   "pygments_lexer": "ipython3",
   "version": "3.12.1"
  }
 },
 "nbformat": 4,
 "nbformat_minor": 5
}
