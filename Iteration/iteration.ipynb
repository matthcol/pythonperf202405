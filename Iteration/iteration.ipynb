{
 "cells": [
  {
   "cell_type": "markdown",
   "id": "4db96428-003a-4999-8343-e231a3c7c8b9",
   "metadata": {},
   "source": [
    "# Container and Iteration"
   ]
  },
  {
   "cell_type": "code",
   "execution_count": 1,
   "id": "d4602034-907f-4b49-b15e-42f237645e10",
   "metadata": {},
   "outputs": [
    {
     "name": "stdout",
     "output_type": "stream",
     "text": [
      "City count:  4\n"
     ]
    }
   ],
   "source": [
    "cities = [ \"Toulouse\", \"Pau\", \"Paris\", \"Marseille\" ]\n",
    "print(\"City count: \", len(cities))"
   ]
  },
  {
   "cell_type": "code",
   "execution_count": 2,
   "id": "0aa21f8b-2213-4e9e-a11a-54aa8e081bc7",
   "metadata": {},
   "outputs": [
    {
     "name": "stdout",
     "output_type": "stream",
     "text": [
      "Toulouse\n",
      "Pau\n",
      "Paris\n",
      "Marseille\n"
     ]
    }
   ],
   "source": [
    "for city in cities:\n",
    "    print(city)"
   ]
  },
  {
   "cell_type": "code",
   "execution_count": 3,
   "id": "ed02cb2c-e71c-4e88-aa5d-1265f76083b8",
   "metadata": {},
   "outputs": [
    {
     "data": {
      "text/plain": [
       "['Toulouse', 'Pau', 'Paris', 'Marseille']"
      ]
     },
     "execution_count": 3,
     "metadata": {},
     "output_type": "execute_result"
    }
   ],
   "source": [
    "cities"
   ]
  },
  {
   "cell_type": "code",
   "execution_count": 4,
   "id": "c6bf0fe9-5ee4-4004-9db5-1e2ee1d06219",
   "metadata": {},
   "outputs": [
    {
     "data": {
      "text/plain": [
       "list"
      ]
     },
     "execution_count": 4,
     "metadata": {},
     "output_type": "execute_result"
    }
   ],
   "source": [
    "type(cities)"
   ]
  },
  {
   "cell_type": "code",
   "execution_count": 5,
   "id": "529ec1f1-745d-4ade-bb4c-18ed80928c01",
   "metadata": {},
   "outputs": [
    {
     "data": {
      "text/plain": [
       "<list_iterator at 0x23c607bf8b0>"
      ]
     },
     "execution_count": 5,
     "metadata": {},
     "output_type": "execute_result"
    }
   ],
   "source": [
    "# a list is iterable\n",
    "it = iter(cities)\n",
    "it"
   ]
  },
  {
   "cell_type": "code",
   "execution_count": 6,
   "id": "7b9a76f9-c3f5-4cd4-bd7a-221a3a158d20",
   "metadata": {},
   "outputs": [
    {
     "data": {
      "text/plain": [
       "'Toulouse'"
      ]
     },
     "execution_count": 6,
     "metadata": {},
     "output_type": "execute_result"
    }
   ],
   "source": [
    "# end of iteration => exception StopIteration\n",
    "city = next(it)\n",
    "city"
   ]
  },
  {
   "cell_type": "code",
   "execution_count": 7,
   "id": "f767fe64-3fb8-4bc2-8f74-3375e171f225",
   "metadata": {},
   "outputs": [
    {
     "data": {
      "text/plain": [
       "dict"
      ]
     },
     "execution_count": 7,
     "metadata": {},
     "output_type": "execute_result"
    }
   ],
   "source": [
    "city_dict = {\n",
    "    \"name\": \"Toulouse\",\n",
    "    \"population\": 477_000,\n",
    "    \"cp\": 31000\n",
    "}\n",
    "type(city_dict)"
   ]
  },
  {
   "cell_type": "code",
   "execution_count": 8,
   "id": "d1f077ed-7d6f-4c2f-a387-42028c25b00a",
   "metadata": {},
   "outputs": [
    {
     "data": {
      "text/plain": [
       "<dict_keyiterator at 0x23c6081dfd0>"
      ]
     },
     "execution_count": 8,
     "metadata": {},
     "output_type": "execute_result"
    }
   ],
   "source": [
    "it = iter(city_dict)\n",
    "it"
   ]
  },
  {
   "cell_type": "code",
   "execution_count": 9,
   "id": "52c3d95a-5632-46fc-8671-4039a312a0e8",
   "metadata": {},
   "outputs": [
    {
     "data": {
      "text/plain": [
       "'name'"
      ]
     },
     "execution_count": 9,
     "metadata": {},
     "output_type": "execute_result"
    }
   ],
   "source": [
    "# default iteration on keys\n",
    "next(it)"
   ]
  },
  {
   "cell_type": "code",
   "execution_count": 10,
   "id": "88b0b905-3573-4cbe-a1aa-07159b9a619c",
   "metadata": {},
   "outputs": [
    {
     "name": "stdout",
     "output_type": "stream",
     "text": [
      "name\n",
      "population\n",
      "cp\n"
     ]
    }
   ],
   "source": [
    "for info_name in city_dict:\n",
    "    print(info_name)"
   ]
  },
  {
   "cell_type": "code",
   "execution_count": 11,
   "id": "d059c55d-4296-4963-9253-c2ff187b159c",
   "metadata": {},
   "outputs": [
    {
     "name": "stdout",
     "output_type": "stream",
     "text": [
      "name\n",
      "population\n",
      "cp\n"
     ]
    }
   ],
   "source": [
    "for info_name in city_dict.keys():\n",
    "    print(info_name)"
   ]
  },
  {
   "cell_type": "code",
   "execution_count": 12,
   "id": "ccec80c0-2610-4f29-82fb-1047cb8d031a",
   "metadata": {},
   "outputs": [
    {
     "name": "stdout",
     "output_type": "stream",
     "text": [
      "Toulouse\n",
      "477000\n",
      "31000\n"
     ]
    }
   ],
   "source": [
    "for info_value in city_dict.values():\n",
    "    print(info_value)"
   ]
  },
  {
   "cell_type": "code",
   "execution_count": 13,
   "id": "c51d6bcc-0dc8-4403-aabd-b3d4aa96226c",
   "metadata": {},
   "outputs": [
    {
     "name": "stdout",
     "output_type": "stream",
     "text": [
      "name = Toulouse\n",
      "population = 477000\n",
      "cp = 31000\n"
     ]
    }
   ],
   "source": [
    "for info_name, info_value in city_dict.items():\n",
    "    print(f\"{info_name} = {info_value}\")"
   ]
  },
  {
   "cell_type": "code",
   "execution_count": 14,
   "id": "8bdf0c48-c90d-4196-82b9-5e73e166980b",
   "metadata": {},
   "outputs": [
    {
     "name": "stdout",
     "output_type": "stream",
     "text": [
      "T o u l o u s e \n",
      "P a u \n",
      "P a r i s \n",
      "M a r s e i l l e \n"
     ]
    }
   ],
   "source": [
    "# list iteration\n",
    "for city in cities: \n",
    "    # str iteration\n",
    "    for letter in city:\n",
    "        print(letter, end=' ')\n",
    "    print()"
   ]
  },
  {
   "cell_type": "code",
   "execution_count": 15,
   "id": "85dcf6d3-d1bd-4155-b9ea-cc622ec342a1",
   "metadata": {},
   "outputs": [
    {
     "data": {
      "text/plain": [
       "('Toulouse', 477000, 31000)"
      ]
     },
     "execution_count": 15,
     "metadata": {},
     "output_type": "execute_result"
    }
   ],
   "source": [
    "city_tuple = (\"Toulouse\", 477_000, 31000)\n",
    "city_tuple"
   ]
  },
  {
   "cell_type": "code",
   "execution_count": 16,
   "id": "0245c90b-b243-4b19-8b74-93bd398a42c8",
   "metadata": {},
   "outputs": [
    {
     "data": {
      "text/plain": [
       "tuple"
      ]
     },
     "execution_count": 16,
     "metadata": {},
     "output_type": "execute_result"
    }
   ],
   "source": [
    "type(city_tuple)"
   ]
  },
  {
   "cell_type": "code",
   "execution_count": 17,
   "id": "5496096a-fe28-42cf-8405-b007f8283624",
   "metadata": {},
   "outputs": [
    {
     "data": {
      "text/plain": [
       "<tuple_iterator at 0x23c6080e140>"
      ]
     },
     "execution_count": 17,
     "metadata": {},
     "output_type": "execute_result"
    }
   ],
   "source": [
    "it = iter(city_tuple)\n",
    "it"
   ]
  },
  {
   "cell_type": "code",
   "execution_count": 18,
   "id": "7bf76d06-5fa1-4341-9a99-e8b76ef2710c",
   "metadata": {},
   "outputs": [
    {
     "data": {
      "text/plain": [
       "'Toulouse'"
      ]
     },
     "execution_count": 18,
     "metadata": {},
     "output_type": "execute_result"
    }
   ],
   "source": [
    "next(it)"
   ]
  },
  {
   "cell_type": "code",
   "execution_count": 19,
   "id": "fa9af4d3-bd2c-410c-8d79-ed90b00bfe09",
   "metadata": {},
   "outputs": [
    {
     "data": {
      "text/plain": [
       "range(0, 100)"
      ]
     },
     "execution_count": 19,
     "metadata": {},
     "output_type": "execute_result"
    }
   ],
   "source": [
    "r = range(100)\n",
    "r"
   ]
  },
  {
   "cell_type": "code",
   "execution_count": 20,
   "id": "9906e962-c076-4014-a325-c81fa88fbc6b",
   "metadata": {},
   "outputs": [
    {
     "data": {
      "text/plain": [
       "range"
      ]
     },
     "execution_count": 20,
     "metadata": {},
     "output_type": "execute_result"
    }
   ],
   "source": [
    "type(r)"
   ]
  },
  {
   "cell_type": "code",
   "execution_count": 21,
   "id": "6c06cb66-175a-415e-a6f7-90ee00c8f0fa",
   "metadata": {},
   "outputs": [
    {
     "data": {
      "text/plain": [
       "<range_iterator at 0x23c6060bfb0>"
      ]
     },
     "execution_count": 21,
     "metadata": {},
     "output_type": "execute_result"
    }
   ],
   "source": [
    "it = iter(r)\n",
    "it"
   ]
  },
  {
   "cell_type": "code",
   "execution_count": 22,
   "id": "84fe2d13-b096-4327-af3d-6e0250a9d415",
   "metadata": {},
   "outputs": [
    {
     "data": {
      "text/plain": [
       "0"
      ]
     },
     "execution_count": 22,
     "metadata": {},
     "output_type": "execute_result"
    }
   ],
   "source": [
    "next(it)"
   ]
  },
  {
   "cell_type": "code",
   "execution_count": 23,
   "id": "d438a08d-3a70-4a36-9191-ac7b5800e842",
   "metadata": {},
   "outputs": [
    {
     "data": {
      "text/plain": [
       "{'Pau', 'Toulouse'}"
      ]
     },
     "execution_count": 23,
     "metadata": {},
     "output_type": "execute_result"
    }
   ],
   "source": [
    "city_set = { \"Pau\", \"Toulouse\" }\n",
    "city_set"
   ]
  },
  {
   "cell_type": "code",
   "execution_count": 24,
   "id": "2db790ef-aec5-42e1-b0b0-e73902680047",
   "metadata": {},
   "outputs": [
    {
     "data": {
      "text/plain": [
       "{'Pau', 'Toulouse'}"
      ]
     },
     "execution_count": 24,
     "metadata": {},
     "output_type": "execute_result"
    }
   ],
   "source": [
    "city_set.add(\"Pau\")\n",
    "city_set"
   ]
  },
  {
   "cell_type": "code",
   "execution_count": 25,
   "id": "b5c0453a-d414-433d-990a-d437f7c3dc43",
   "metadata": {},
   "outputs": [
    {
     "data": {
      "text/plain": [
       "<set_iterator at 0x23c608331c0>"
      ]
     },
     "execution_count": 25,
     "metadata": {},
     "output_type": "execute_result"
    }
   ],
   "source": [
    "it = iter(city_set)\n",
    "it"
   ]
  },
  {
   "cell_type": "code",
   "execution_count": 26,
   "id": "6e2d33c8-1740-4251-9964-c9e0eec554ae",
   "metadata": {},
   "outputs": [
    {
     "data": {
      "text/plain": [
       "<list_iterator at 0x23c607ee290>"
      ]
     },
     "execution_count": 26,
     "metadata": {},
     "output_type": "execute_result"
    }
   ],
   "source": [
    "# builtin iter calls object.__iter__()\n",
    "it = cities.__iter__()\n",
    "it"
   ]
  },
  {
   "cell_type": "code",
   "execution_count": 27,
   "id": "17211390-a260-4200-9c96-23be46fe2980",
   "metadata": {},
   "outputs": [
    {
     "data": {
      "text/plain": [
       "477000"
      ]
     },
     "execution_count": 27,
     "metadata": {},
     "output_type": "execute_result"
    }
   ],
   "source": [
    "pop = 477_000\n",
    "pop"
   ]
  },
  {
   "cell_type": "code",
   "execution_count": 28,
   "id": "86d338a0-c44c-4cd0-907e-107cc854d59f",
   "metadata": {},
   "outputs": [],
   "source": [
    "# TypeError: 'int' object is not iterable\n",
    "#it = iter(pop)"
   ]
  },
  {
   "cell_type": "code",
   "execution_count": 29,
   "id": "dbb6112e-90c0-4fc7-b38b-ebcea7b0c148",
   "metadata": {},
   "outputs": [
    {
     "name": "stdout",
     "output_type": "stream",
     "text": [
      "0 Toulouse\n",
      "1 Pau\n",
      "2 Paris\n",
      "3 Marseille\n"
     ]
    }
   ],
   "source": [
    "for i, city in enumerate(cities):\n",
    "    print(i, city)"
   ]
  },
  {
   "cell_type": "code",
   "execution_count": 30,
   "id": "6ad3c5c0-266f-41f8-a6bd-bd2508fe5f4e",
   "metadata": {},
   "outputs": [
    {
     "data": {
      "text/plain": [
       "\u001b[1;31mInit signature:\u001b[0m \u001b[0menumerate\u001b[0m\u001b[1;33m(\u001b[0m\u001b[0miterable\u001b[0m\u001b[1;33m,\u001b[0m \u001b[0mstart\u001b[0m\u001b[1;33m=\u001b[0m\u001b[1;36m0\u001b[0m\u001b[1;33m)\u001b[0m\u001b[1;33m\u001b[0m\u001b[1;33m\u001b[0m\u001b[0m\n",
       "\u001b[1;31mDocstring:\u001b[0m     \n",
       "Return an enumerate object.\n",
       "\n",
       "  iterable\n",
       "    an object supporting iteration\n",
       "\n",
       "The enumerate object yields pairs containing a count (from start, which\n",
       "defaults to zero) and a value yielded by the iterable argument.\n",
       "\n",
       "enumerate is useful for obtaining an indexed list:\n",
       "    (0, seq[0]), (1, seq[1]), (2, seq[2]), ...\n",
       "\u001b[1;31mType:\u001b[0m           type\n",
       "\u001b[1;31mSubclasses:\u001b[0m     "
      ]
     },
     "metadata": {},
     "output_type": "display_data"
    }
   ],
   "source": [
    "enumerate?"
   ]
  },
  {
   "cell_type": "code",
   "execution_count": 31,
   "id": "82af5e2f-ce29-4a20-b275-779c3cafae99",
   "metadata": {},
   "outputs": [
    {
     "data": {
      "text/plain": [
       "<enumerate at 0x23c60bc0720>"
      ]
     },
     "execution_count": 31,
     "metadata": {},
     "output_type": "execute_result"
    }
   ],
   "source": [
    "# enumerate are small/lazy objects\n",
    "enumerate(cities, start=1)"
   ]
  },
  {
   "cell_type": "code",
   "execution_count": 32,
   "id": "a8ecc42a-f39c-41c8-b353-ba340bb4d131",
   "metadata": {},
   "outputs": [
    {
     "data": {
      "text/plain": [
       "[(1, 'Toulouse'), (2, 'Pau'), (3, 'Paris'), (4, 'Marseille')]"
      ]
     },
     "execution_count": 32,
     "metadata": {},
     "output_type": "execute_result"
    }
   ],
   "source": [
    "list(enumerate(cities, start=1))"
   ]
  },
  {
   "cell_type": "code",
   "execution_count": 33,
   "id": "8d5af48a-e06c-43b0-8ecb-1b95482f06b4",
   "metadata": {},
   "outputs": [
    {
     "data": {
      "text/plain": [
       "[('Toulouse', 31000), ('Pau', 64000), ('Paris', 75000), ('Marseille', 13000)]"
      ]
     },
     "execution_count": 33,
     "metadata": {},
     "output_type": "execute_result"
    }
   ],
   "source": [
    "# iterate in // on cities and list [31000, 64000, 75000, 13000]\n",
    "code_postal = [31000, 64000, 75000, 13000]\n",
    "list(zip(cities, code_postal))"
   ]
  },
  {
   "cell_type": "code",
   "execution_count": 34,
   "id": "57318a5d-9f7c-465e-8af0-9b5bc9b0fe24",
   "metadata": {},
   "outputs": [
    {
     "name": "stdout",
     "output_type": "stream",
     "text": [
      "31000 - Toulouse\n",
      "64000 - Pau\n",
      "75000 - Paris\n",
      "13000 - Marseille\n"
     ]
    }
   ],
   "source": [
    "for city, cp in zip(cities, code_postal):\n",
    "    print(f\"{cp} - {city}\")"
   ]
  },
  {
   "cell_type": "code",
   "execution_count": 35,
   "id": "b8656d87-37b8-4ce4-ae97-8ba0b96cbbcd",
   "metadata": {},
   "outputs": [
    {
     "data": {
      "text/plain": [
       "(<zip at 0x23c60bb3240>, <zip at 0x23c60bb3240>)"
      ]
     },
     "execution_count": 35,
     "metadata": {},
     "output_type": "execute_result"
    }
   ],
   "source": [
    "z = zip(cities, code_postal)\n",
    "it = iter(z)\n",
    "z, it"
   ]
  },
  {
   "cell_type": "code",
   "execution_count": 36,
   "id": "b074f286-085e-40eb-a3c5-1b9905afbc27",
   "metadata": {},
   "outputs": [
    {
     "data": {
      "text/plain": [
       "True"
      ]
     },
     "execution_count": 36,
     "metadata": {},
     "output_type": "execute_result"
    }
   ],
   "source": [
    "z is it"
   ]
  },
  {
   "cell_type": "code",
   "execution_count": 37,
   "id": "79cd54b9-4ed7-49de-a409-deee91334aab",
   "metadata": {},
   "outputs": [
    {
     "data": {
      "text/plain": [
       "<zip at 0x23c60bb3240>"
      ]
     },
     "execution_count": 37,
     "metadata": {},
     "output_type": "execute_result"
    }
   ],
   "source": [
    "iter(iter(iter(iter(z))))"
   ]
  },
  {
   "cell_type": "code",
   "execution_count": 38,
   "id": "f0bc30a2-1aed-45a7-87d4-57e08d68b3d0",
   "metadata": {},
   "outputs": [
    {
     "name": "stdout",
     "output_type": "stream",
     "text": [
      "Toulouse 31000\n"
     ]
    }
   ],
   "source": [
    "city, cp = next(it)\n",
    "print(city, cp)"
   ]
  },
  {
   "cell_type": "code",
   "execution_count": 39,
   "id": "30a45323-71fa-4647-991f-215212ea847e",
   "metadata": {},
   "outputs": [
    {
     "data": {
      "text/plain": [
       "('Pau', 64000)"
      ]
     },
     "execution_count": 39,
     "metadata": {},
     "output_type": "execute_result"
    }
   ],
   "source": [
    "next(it)"
   ]
  },
  {
   "cell_type": "code",
   "execution_count": 40,
   "id": "d032b3ba-56ac-41c1-bc6c-129fc090ae41",
   "metadata": {},
   "outputs": [
    {
     "data": {
      "text/plain": [
       "[('Paris', 75000), ('Marseille', 13000)]"
      ]
     },
     "execution_count": 40,
     "metadata": {},
     "output_type": "execute_result"
    }
   ],
   "source": [
    "list(z)"
   ]
  },
  {
   "cell_type": "code",
   "execution_count": 41,
   "id": "4ae0e896-e22a-466a-b0e5-455aee95ded8",
   "metadata": {},
   "outputs": [
    {
     "data": {
      "text/plain": [
       "[]"
      ]
     },
     "execution_count": 41,
     "metadata": {},
     "output_type": "execute_result"
    }
   ],
   "source": [
    "list(it)"
   ]
  },
  {
   "cell_type": "code",
   "execution_count": 42,
   "id": "b7d26356-08ca-4f5e-b411-562aa9099d09",
   "metadata": {},
   "outputs": [
    {
     "data": {
      "text/plain": [
       "<method-wrapper '__iter__' of zip object at 0x0000023C60BB3240>"
      ]
     },
     "execution_count": 42,
     "metadata": {},
     "output_type": "execute_result"
    }
   ],
   "source": [
    "z.__iter__"
   ]
  },
  {
   "cell_type": "code",
   "execution_count": 43,
   "id": "e669bfc4-88d0-4180-a0f6-2bff7bb5d57f",
   "metadata": {},
   "outputs": [
    {
     "data": {
      "text/plain": [
       "<method-wrapper '__next__' of zip object at 0x0000023C60BB3240>"
      ]
     },
     "execution_count": 43,
     "metadata": {},
     "output_type": "execute_result"
    }
   ],
   "source": [
    "z.__next__"
   ]
  },
  {
   "cell_type": "markdown",
   "id": "88f82c9a-71f8-4669-9a26-bc73a3309cda",
   "metadata": {},
   "source": [
    "## Generator"
   ]
  },
  {
   "cell_type": "code",
   "execution_count": 44,
   "id": "0d4ccebe-6c22-48ce-a473-16e75eb1da0f",
   "metadata": {},
   "outputs": [
    {
     "data": {
      "text/plain": [
       "<generator object <genexpr> at 0x0000023C607CE5A0>"
      ]
     },
     "execution_count": 44,
     "metadata": {},
     "output_type": "execute_result"
    }
   ],
   "source": [
    "# expression for: => generator\n",
    "g = (city.upper() for city in cities)\n",
    "g"
   ]
  },
  {
   "cell_type": "code",
   "execution_count": 46,
   "id": "3c833f72-6777-47f4-839d-2ff7a747d9ee",
   "metadata": {},
   "outputs": [],
   "source": [
    "it = iter(g)\n",
    "assert it is g"
   ]
  },
  {
   "cell_type": "code",
   "execution_count": 47,
   "id": "dda65c0e-9523-4448-94c3-5a968e15a14f",
   "metadata": {},
   "outputs": [
    {
     "data": {
      "text/plain": [
       "['TOULOUSE', 'PAU', 'PARIS', 'MARSEILLE']"
      ]
     },
     "execution_count": 47,
     "metadata": {},
     "output_type": "execute_result"
    }
   ],
   "source": [
    "list(g)"
   ]
  },
  {
   "cell_type": "code",
   "execution_count": 48,
   "id": "47cc1f59-f478-4052-87f1-3e54afd9fae7",
   "metadata": {},
   "outputs": [
    {
     "data": {
      "text/plain": [
       "[]"
      ]
     },
     "execution_count": 48,
     "metadata": {},
     "output_type": "execute_result"
    }
   ],
   "source": [
    "list(g)"
   ]
  },
  {
   "cell_type": "code",
   "execution_count": 49,
   "id": "c5255d55-0537-46d0-a09c-e357677f1bc6",
   "metadata": {},
   "outputs": [
    {
     "data": {
      "text/plain": [
       "['TOULOUSE', 'PAU', 'PARIS', 'MARSEILLE']"
      ]
     },
     "execution_count": 49,
     "metadata": {},
     "output_type": "execute_result"
    }
   ],
   "source": [
    "# list comprehension\n",
    "cities_upper = [ city.upper() for city in cities ]\n",
    "cities_upper"
   ]
  },
  {
   "cell_type": "code",
   "execution_count": 50,
   "id": "acb7161e-0d5d-45d5-8ada-69361409851f",
   "metadata": {},
   "outputs": [
    {
     "data": {
      "text/plain": [
       "{'Toulouse': 8, 'Pau': 3, 'Paris': 5, 'Marseille': 9}"
      ]
     },
     "execution_count": 50,
     "metadata": {},
     "output_type": "execute_result"
    }
   ],
   "source": [
    "# dict comprehension\n",
    "city_letter_count = { city: len(city) for city in cities }\n",
    "city_letter_count"
   ]
  },
  {
   "cell_type": "code",
   "execution_count": 51,
   "id": "cd89a55a-119e-4d74-ad8f-cd65f27db756",
   "metadata": {},
   "outputs": [
    {
     "data": {
      "text/plain": [
       "[('Toulouse', 1, 8), ('Pau', 2, 3), ('Paris', 3, 5), ('Marseille', 4, 9)]"
      ]
     },
     "execution_count": 51,
     "metadata": {},
     "output_type": "execute_result"
    }
   ],
   "source": [
    "list(zip(cities, range(1,10), (len(city) for city in cities)))"
   ]
  },
  {
   "cell_type": "code",
   "execution_count": null,
   "id": "0be59d94-59a0-43f7-aa22-6c973e659844",
   "metadata": {},
   "outputs": [],
   "source": [
    "# total number of letters to write all cities"
   ]
  }
 ],
 "metadata": {
  "kernelspec": {
   "display_name": "k312",
   "language": "python",
   "name": "k312"
  },
  "language_info": {
   "codemirror_mode": {
    "name": "ipython",
    "version": 3
   },
   "file_extension": ".py",
   "mimetype": "text/x-python",
   "name": "python",
   "nbconvert_exporter": "python",
   "pygments_lexer": "ipython3",
   "version": "3.12.1"
  }
 },
 "nbformat": 4,
 "nbformat_minor": 5
}
