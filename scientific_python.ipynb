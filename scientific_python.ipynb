{
 "cells": [
  {
   "cell_type": "markdown",
   "id": "f451d15a-05e5-443f-a125-225430d73b32",
   "metadata": {},
   "source": [
    "# Scientific Python"
   ]
  },
  {
   "cell_type": "code",
   "execution_count": 1,
   "id": "326205ea-67f4-4b00-bd64-1c3f72165a4e",
   "metadata": {},
   "outputs": [],
   "source": [
    "import numpy as np\n",
    "import pandas as pd"
   ]
  },
  {
   "cell_type": "markdown",
   "id": "d781ece1-21dd-44fe-8a63-52dbaf4786c4",
   "metadata": {},
   "source": [
    "## Numpy arrays (ndarray)"
   ]
  },
  {
   "cell_type": "code",
   "execution_count": 2,
   "id": "d1e417a4-6835-492c-a814-3b54eda936ef",
   "metadata": {},
   "outputs": [],
   "source": [
    "# ValueError: negative dimensions are not allowed\n",
    "# a = np.zeros((-1, 2, 3))\n",
    "# a"
   ]
  },
  {
   "cell_type": "code",
   "execution_count": 3,
   "id": "e2e5c4aa-58aa-49d6-9d15-bad67065269c",
   "metadata": {},
   "outputs": [
    {
     "data": {
      "text/plain": [
       "(ValueError, Exception, BaseException, object)"
      ]
     },
     "execution_count": 3,
     "metadata": {},
     "output_type": "execute_result"
    }
   ],
   "source": [
    "ValueError.__mro__"
   ]
  },
  {
   "cell_type": "code",
   "execution_count": 4,
   "id": "4dac314e-ecaa-4493-9bb4-60faabd09620",
   "metadata": {},
   "outputs": [
    {
     "data": {
      "text/plain": [
       "ValueError('some error')"
      ]
     },
     "execution_count": 4,
     "metadata": {},
     "output_type": "execute_result"
    }
   ],
   "source": [
    "e = ValueError(\"some error\")\n",
    "e"
   ]
  },
  {
   "cell_type": "code",
   "execution_count": 5,
   "id": "61089d22-3370-422e-8a85-f29ace16bf6b",
   "metadata": {},
   "outputs": [
    {
     "data": {
      "text/plain": [
       "True"
      ]
     },
     "execution_count": 5,
     "metadata": {},
     "output_type": "execute_result"
    }
   ],
   "source": [
    "isinstance(e, (ValueError, Exception, BaseException, object))"
   ]
  },
  {
   "cell_type": "code",
   "execution_count": 6,
   "id": "fafb59bf-55ad-4542-a6bf-17d120abc774",
   "metadata": {},
   "outputs": [
    {
     "data": {
      "text/plain": [
       "array([0.00000000e+00, 6.28381369e-04, 1.25676274e-03, ...,\n",
       "       6.28192854e+00, 6.28255693e+00, 6.28318531e+00])"
      ]
     },
     "execution_count": 6,
     "metadata": {},
     "output_type": "execute_result"
    }
   ],
   "source": [
    "values = np.linspace(0, 2*np.pi, 10_000)\n",
    "values"
   ]
  },
  {
   "cell_type": "code",
   "execution_count": 7,
   "id": "fc430932-3351-4e2e-adcf-3f98a08b2052",
   "metadata": {},
   "outputs": [
    {
     "data": {
      "text/plain": [
       "(10000,)"
      ]
     },
     "execution_count": 7,
     "metadata": {},
     "output_type": "execute_result"
    }
   ],
   "source": [
    "values.shape"
   ]
  },
  {
   "cell_type": "code",
   "execution_count": 8,
   "id": "472c5998-7476-4733-b7a8-a1f8d06e6368",
   "metadata": {},
   "outputs": [
    {
     "data": {
      "text/plain": [
       "dtype('float64')"
      ]
     },
     "execution_count": 8,
     "metadata": {},
     "output_type": "execute_result"
    }
   ],
   "source": [
    "values.dtype"
   ]
  },
  {
   "cell_type": "code",
   "execution_count": 9,
   "id": "db13634f-1010-41f6-82d7-4998307a9e5d",
   "metadata": {},
   "outputs": [
    {
     "data": {
      "text/plain": [
       "  C_CONTIGUOUS : True\n",
       "  F_CONTIGUOUS : True\n",
       "  OWNDATA : False\n",
       "  WRITEABLE : True\n",
       "  ALIGNED : True\n",
       "  WRITEBACKIFCOPY : False"
      ]
     },
     "execution_count": 9,
     "metadata": {},
     "output_type": "execute_result"
    }
   ],
   "source": [
    "values.flags"
   ]
  },
  {
   "cell_type": "code",
   "execution_count": 10,
   "id": "e9d26030-1aea-45f6-aedc-39b71d19a40a",
   "metadata": {},
   "outputs": [],
   "source": [
    "# AttributeError: 'numpy.ndarray' object has no attribute 'note'\n",
    "# values.note = \"beautiful array\""
   ]
  },
  {
   "cell_type": "code",
   "execution_count": 11,
   "id": "904318ee-d089-48e4-aa96-94acd4dd6c9c",
   "metadata": {},
   "outputs": [],
   "source": [
    "# AttributeError: attribute 'flags' of 'numpy.ndarray' objects is not writable\n",
    "# del values.flags"
   ]
  },
  {
   "cell_type": "code",
   "execution_count": 12,
   "id": "29ae6eeb-d31a-4adc-9076-50ab9bdd135f",
   "metadata": {},
   "outputs": [],
   "source": [
    "# AttributeError: Cannot delete array shape\n",
    "# del values.shape"
   ]
  },
  {
   "cell_type": "code",
   "execution_count": 13,
   "id": "89e1a82c-dfd3-4a69-9a5b-fb7a8114aace",
   "metadata": {},
   "outputs": [
    {
     "data": {
      "text/plain": [
       "array([[0.00000000e+00, 6.28381369e-04, 1.25676274e-03, ...,\n",
       "        6.26496225e-01, 6.27124606e-01, 6.27752987e-01],\n",
       "       [6.28381369e-01, 6.29009750e-01, 6.29638132e-01, ...,\n",
       "        1.25487759e+00, 1.25550597e+00, 1.25613436e+00],\n",
       "       [1.25676274e+00, 1.25739112e+00, 1.25801950e+00, ...,\n",
       "        1.88325896e+00, 1.88388734e+00, 1.88451573e+00],\n",
       "       ...,\n",
       "       [4.39866958e+00, 4.39929796e+00, 4.39992634e+00, ...,\n",
       "        5.02516581e+00, 5.02579419e+00, 5.02642257e+00],\n",
       "       [5.02705095e+00, 5.02767933e+00, 5.02830771e+00, ...,\n",
       "        5.65354718e+00, 5.65417556e+00, 5.65480394e+00],\n",
       "       [5.65543232e+00, 5.65606070e+00, 5.65668908e+00, ...,\n",
       "        6.28192854e+00, 6.28255693e+00, 6.28318531e+00]])"
      ]
     },
     "execution_count": 13,
     "metadata": {},
     "output_type": "execute_result"
    }
   ],
   "source": [
    "values.shape = (10, 1000)\n",
    "values"
   ]
  },
  {
   "cell_type": "code",
   "execution_count": 14,
   "id": "43ddeb07-76c1-45a8-baa4-f2c3aa68a940",
   "metadata": {},
   "outputs": [],
   "source": [
    "# ValueError: cannot reshape array of size 10000 into shape (1000,1000)\n",
    "# values.shape = (1000, 1000)"
   ]
  },
  {
   "cell_type": "markdown",
   "id": "4d27b040-fed4-48e7-9652-7322d14b52e9",
   "metadata": {},
   "source": [
    "## Pandas DataFrame"
   ]
  },
  {
   "cell_type": "code",
   "execution_count": 15,
   "id": "c6f7d0d4-6592-4195-8edf-b6be2c6b66d8",
   "metadata": {},
   "outputs": [
    {
     "data": {
      "text/html": [
       "<div>\n",
       "<style scoped>\n",
       "    .dataframe tbody tr th:only-of-type {\n",
       "        vertical-align: middle;\n",
       "    }\n",
       "\n",
       "    .dataframe tbody tr th {\n",
       "        vertical-align: top;\n",
       "    }\n",
       "\n",
       "    .dataframe thead th {\n",
       "        text-align: right;\n",
       "    }\n",
       "</style>\n",
       "<table border=\"1\" class=\"dataframe\">\n",
       "  <thead>\n",
       "    <tr style=\"text-align: right;\">\n",
       "      <th></th>\n",
       "      <th>name</th>\n",
       "      <th>population</th>\n",
       "      <th>cp</th>\n",
       "    </tr>\n",
       "  </thead>\n",
       "  <tbody>\n",
       "    <tr>\n",
       "      <th>0</th>\n",
       "      <td>Pau</td>\n",
       "      <td>77000</td>\n",
       "      <td>64000</td>\n",
       "    </tr>\n",
       "    <tr>\n",
       "      <th>1</th>\n",
       "      <td>Toulouse</td>\n",
       "      <td>477000</td>\n",
       "      <td>31000</td>\n",
       "    </tr>\n",
       "    <tr>\n",
       "      <th>2</th>\n",
       "      <td>Nîmes</td>\n",
       "      <td>150000</td>\n",
       "      <td>30000</td>\n",
       "    </tr>\n",
       "  </tbody>\n",
       "</table>\n",
       "</div>"
      ],
      "text/plain": [
       "       name  population     cp\n",
       "0       Pau       77000  64000\n",
       "1  Toulouse      477000  31000\n",
       "2     Nîmes      150000  30000"
      ]
     },
     "execution_count": 15,
     "metadata": {},
     "output_type": "execute_result"
    }
   ],
   "source": [
    "cities = pd.read_csv('Iteration/cities.csv', encoding='UTF-8')\n",
    "cities"
   ]
  },
  {
   "cell_type": "code",
   "execution_count": 16,
   "id": "9677157f-7bbb-4d23-ba75-894b76910283",
   "metadata": {},
   "outputs": [
    {
     "data": {
      "text/plain": [
       "0     77000\n",
       "1    477000\n",
       "2    150000\n",
       "Name: population, dtype: int64"
      ]
     },
     "execution_count": 16,
     "metadata": {},
     "output_type": "execute_result"
    }
   ],
   "source": [
    "cities.population"
   ]
  },
  {
   "cell_type": "code",
   "execution_count": 17,
   "id": "7fa202c5-16d6-470b-9c69-b96c06d894f8",
   "metadata": {},
   "outputs": [
    {
     "data": {
      "text/plain": [
       "0         Pau\n",
       "1    Toulouse\n",
       "2       Nîmes\n",
       "Name: name, dtype: object"
      ]
     },
     "execution_count": 17,
     "metadata": {},
     "output_type": "execute_result"
    }
   ],
   "source": [
    "cities.name"
   ]
  },
  {
   "cell_type": "code",
   "execution_count": 18,
   "id": "20755933-183a-41b3-91c0-d7545a305122",
   "metadata": {},
   "outputs": [
    {
     "data": {
      "text/html": [
       "<div>\n",
       "<style scoped>\n",
       "    .dataframe tbody tr th:only-of-type {\n",
       "        vertical-align: middle;\n",
       "    }\n",
       "\n",
       "    .dataframe tbody tr th {\n",
       "        vertical-align: top;\n",
       "    }\n",
       "\n",
       "    .dataframe thead th {\n",
       "        text-align: right;\n",
       "    }\n",
       "</style>\n",
       "<table border=\"1\" class=\"dataframe\">\n",
       "  <thead>\n",
       "    <tr style=\"text-align: right;\">\n",
       "      <th></th>\n",
       "      <th>name</th>\n",
       "      <th>cp</th>\n",
       "    </tr>\n",
       "  </thead>\n",
       "  <tbody>\n",
       "    <tr>\n",
       "      <th>0</th>\n",
       "      <td>Pau</td>\n",
       "      <td>64000</td>\n",
       "    </tr>\n",
       "    <tr>\n",
       "      <th>1</th>\n",
       "      <td>Toulouse</td>\n",
       "      <td>31000</td>\n",
       "    </tr>\n",
       "    <tr>\n",
       "      <th>2</th>\n",
       "      <td>Nîmes</td>\n",
       "      <td>30000</td>\n",
       "    </tr>\n",
       "  </tbody>\n",
       "</table>\n",
       "</div>"
      ],
      "text/plain": [
       "       name     cp\n",
       "0       Pau  64000\n",
       "1  Toulouse  31000\n",
       "2     Nîmes  30000"
      ]
     },
     "execution_count": 18,
     "metadata": {},
     "output_type": "execute_result"
    }
   ],
   "source": [
    "cities.drop(columns='population', inplace=True)\n",
    "cities"
   ]
  },
  {
   "cell_type": "code",
   "execution_count": 19,
   "id": "7ee1a5f0-5318-4271-96e7-6a864e1120aa",
   "metadata": {},
   "outputs": [],
   "source": [
    "# AttributeError: 'DataFrame' object has no attribute 'population'\n",
    "# cities.population"
   ]
  },
  {
   "cell_type": "code",
   "execution_count": 20,
   "id": "9bc83255-033d-4f34-beb7-7b71ac63fe2c",
   "metadata": {},
   "outputs": [],
   "source": [
    "cities.note = \"Beautiful dataframe\""
   ]
  },
  {
   "cell_type": "code",
   "execution_count": 21,
   "id": "cbc3e93d-53e9-44d8-83a7-72d01f6c4597",
   "metadata": {},
   "outputs": [
    {
     "data": {
      "text/html": [
       "<div>\n",
       "<style scoped>\n",
       "    .dataframe tbody tr th:only-of-type {\n",
       "        vertical-align: middle;\n",
       "    }\n",
       "\n",
       "    .dataframe tbody tr th {\n",
       "        vertical-align: top;\n",
       "    }\n",
       "\n",
       "    .dataframe thead th {\n",
       "        text-align: right;\n",
       "    }\n",
       "</style>\n",
       "<table border=\"1\" class=\"dataframe\">\n",
       "  <thead>\n",
       "    <tr style=\"text-align: right;\">\n",
       "      <th></th>\n",
       "      <th>city_name</th>\n",
       "      <th>zipcode</th>\n",
       "    </tr>\n",
       "  </thead>\n",
       "  <tbody>\n",
       "    <tr>\n",
       "      <th>0</th>\n",
       "      <td>Pau</td>\n",
       "      <td>64000</td>\n",
       "    </tr>\n",
       "    <tr>\n",
       "      <th>1</th>\n",
       "      <td>Toulouse</td>\n",
       "      <td>31000</td>\n",
       "    </tr>\n",
       "    <tr>\n",
       "      <th>2</th>\n",
       "      <td>Nîmes</td>\n",
       "      <td>30000</td>\n",
       "    </tr>\n",
       "  </tbody>\n",
       "</table>\n",
       "</div>"
      ],
      "text/plain": [
       "  city_name  zipcode\n",
       "0       Pau    64000\n",
       "1  Toulouse    31000\n",
       "2     Nîmes    30000"
      ]
     },
     "execution_count": 21,
     "metadata": {},
     "output_type": "execute_result"
    }
   ],
   "source": [
    "cities.columns = ['city_name', 'zipcode']\n",
    "cities"
   ]
  },
  {
   "cell_type": "code",
   "execution_count": 22,
   "id": "24cc6df3-883e-4658-910d-e67dc1307c8b",
   "metadata": {},
   "outputs": [],
   "source": [
    "# ValueError: Length mismatch: Expected axis has 2 elements, new values have 3 elements\n",
    "# cities.columns = ['city_name', 'zipcode', 'population']"
   ]
  },
  {
   "cell_type": "code",
   "execution_count": 23,
   "id": "3aa3fcb8-1af2-43d5-96e0-859c2d88ed05",
   "metadata": {},
   "outputs": [],
   "source": [
    "# NotImplementedError: __delete__\n",
    "# del cities.columns"
   ]
  },
  {
   "cell_type": "code",
   "execution_count": null,
   "id": "88882da1-b8ac-49cb-a9b6-52ddb169675e",
   "metadata": {},
   "outputs": [],
   "source": []
  }
 ],
 "metadata": {
  "kernelspec": {
   "display_name": "k312",
   "language": "python",
   "name": "k312"
  },
  "language_info": {
   "codemirror_mode": {
    "name": "ipython",
    "version": 3
   },
   "file_extension": ".py",
   "mimetype": "text/x-python",
   "name": "python",
   "nbconvert_exporter": "python",
   "pygments_lexer": "ipython3",
   "version": "3.12.1"
  }
 },
 "nbformat": 4,
 "nbformat_minor": 5
}
